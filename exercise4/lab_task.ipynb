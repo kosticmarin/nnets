{
 "cells": [
  {
   "cell_type": "code",
   "execution_count": 15,
   "metadata": {
    "collapsed": true
   },
   "outputs": [],
   "source": [
    "import tensorflow as tf"
   ]
  },
  {
   "cell_type": "code",
   "execution_count": 20,
   "metadata": {},
   "outputs": [
    {
     "name": "stderr",
     "output_type": "stream",
     "text": [
      "Using TensorFlow backend.\n"
     ]
    },
    {
     "name": "stdout",
     "output_type": "stream",
     "text": [
      "(1, 2048)\n"
     ]
    }
   ],
   "source": [
    "from keras.applications.resnet50 import ResNet50\n",
    "from keras.preprocessing import image\n",
    "from keras.applications.resnet50 import preprocess_input\n",
    "from keras.models import Model\n",
    "import numpy as np\n",
    "\n",
    "base_model=ResNet50(weights=\"imagenet\")\n",
    "model=Model(inputs=base_model.input, outputs=base_model.get_layer(base_model.layers[-2].name).output)\n",
    "img_path=\"cnn_img/rabbit.jpg\"\n",
    "img=image.load_img(img_path, target_size=(224, 224))\n",
    "x=image.img_to_array(img)\n",
    "x=np.expand_dims(x, axis=0)\n",
    "x=preprocess_input(x)\n",
    "\n",
    "features=model.predict(x)\n",
    "print(features.shape)\n",
    "feature_layer_size=features.shape[1];"
   ]
  },
  {
   "cell_type": "code",
   "execution_count": 63,
   "metadata": {},
   "outputs": [
    {
     "name": "stdout",
     "output_type": "stream",
     "text": [
      "Creating training features...\n",
      "\t 1 / 30\n",
      "\t 2 / 30\n",
      "\t 3 / 30\n",
      "\t 4 / 30\n",
      "\t 5 / 30\n",
      "\t 6 / 30\n",
      "\t 7 / 30\n",
      "\t 8 / 30\n",
      "\t 9 / 30\n",
      "\t10 / 30\n",
      "\t11 / 30\n",
      "\t12 / 30\n",
      "\t13 / 30\n",
      "\t14 / 30\n",
      "\t15 / 30\n",
      "\t16 / 30\n",
      "\t17 / 30\n",
      "\t18 / 30\n",
      "\t19 / 30\n",
      "\t20 / 30\n",
      "\t21 / 30\n",
      "\t22 / 30\n",
      "\t23 / 30\n",
      "\t24 / 30\n",
      "\t25 / 30\n",
      "\t26 / 30\n",
      "\t27 / 30\n",
      "\t28 / 30\n",
      "\t29 / 30\n",
      "\t30 / 30\n",
      "Creating test features...\n",
      "\t 1 / 30\n",
      "\t 2 / 30\n",
      "\t 3 / 30\n",
      "\t 4 / 30\n",
      "\t 5 / 30\n",
      "\t 6 / 30\n",
      "\t 7 / 30\n",
      "\t 8 / 30\n",
      "\t 9 / 30\n",
      "\t10 / 30\n",
      "\t11 / 30\n",
      "\t12 / 30\n",
      "\t13 / 30\n",
      "\t14 / 30\n",
      "\t15 / 30\n",
      "\t16 / 30\n",
      "\t17 / 30\n",
      "\t18 / 30\n",
      "\t19 / 30\n",
      "\t20 / 30\n",
      "\t21 / 30\n",
      "\t22 / 30\n",
      "\t23 / 30\n",
      "\t24 / 30\n",
      "\t25 / 30\n",
      "\t26 / 30\n",
      "\t27 / 30\n",
      "\t28 / 30\n",
      "\t29 / 30\n",
      "\t30 / 30\n"
     ]
    }
   ],
   "source": [
    "f16_dir=\"plane/f16/\"\n",
    "spitfire_dir=\"plane/spitfire/\"\n",
    "\n",
    "def create_numbered_paths(home_dir, n):\n",
    "    return [home_dir+str(i)+\".jpg\" for i in range(n)]\n",
    "\n",
    "def create_paired_numbered_paths(first_home_dir, second_home_dir, n):\n",
    "    image_paths=[]\n",
    "    for p in zip(create_numbered_paths(first_home_dir, n), create_numbered_paths(second_home_dir, n)):\n",
    "        image_paths.extend(p)\n",
    "    return image_paths\n",
    "        \n",
    "def create_features(paths, verbose=True):\n",
    "    n=len(paths)\n",
    "    features=np.zeros((n, feature_layer_size))\n",
    "    for i in range(n):\n",
    "        if (verbose==True):\n",
    "            print(\"\\t%2d / %2d\"%(i+1, n))\n",
    "        img=image.load_img(paths[i], target_size=(224, 224))\n",
    "        img=image.img_to_array(img)\n",
    "        img=np.expand_dims(img, axis=0)\n",
    "        features[i, :]=preprocess_input(model.predict(img))\n",
    "    \n",
    "    return features\n",
    "individual_n=30\n",
    "image_paths=create_paired_numbered_paths(f16_dir, spitfire_dir, individual_n)\n",
    "\n",
    "image_classes=[]\n",
    "for i in range(individual_n):\n",
    "    #0 stands for the pincer image and 0 stands for the scissors image\n",
    "    image_classes.extend((0, 1))\n",
    "\n",
    "#number of all images\n",
    "n=60\n",
    "#number of training images\n",
    "n_train=30\n",
    "#number of test images\n",
    "n_test=n-n_train\n",
    "print(\"Creating training features...\")\n",
    "#here we will store the features of training images\n",
    "x_train=create_features(image_paths[:n_train])\n",
    "#train classes\n",
    "y_train=np.array(image_classes[:n_train])\n",
    "\n",
    "print(\"Creating test features...\")\n",
    "#here we will store the features of test images\n",
    "x_test=create_features(image_paths[n_train:])\n",
    "#train classes\n",
    "y_test=np.array(image_classes[n_train:])"
   ]
  },
  {
   "cell_type": "code",
   "execution_count": 64,
   "metadata": {},
   "outputs": [
    {
     "name": "stdout",
     "output_type": "stream",
     "text": [
      "(30, 2048)\n",
      "[0 1 0 1 0 1 0 1 0 1 0 1 0 1 0 1 0 1 0 1 0 1 0 1 0 1 0 1 0 1]\n",
      "(30, 2048)\n",
      "[0 1 0 1 0 1 0 1 0 1 0 1 0 1 0 1 0 1 0 1 0 1 0 1 0 1 0 1 0 1]\n"
     ]
    }
   ],
   "source": [
    "print (np.shape(x_train))\n",
    "print (y_train)\n",
    "print (np.shape(x_test))\n",
    "print (y_test)"
   ]
  },
  {
   "cell_type": "code",
   "execution_count": 76,
   "metadata": {},
   "outputs": [
    {
     "name": "stdout",
     "output_type": "stream",
     "text": [
      "Accuracy: 96.67%\n"
     ]
    }
   ],
   "source": [
    "from sklearn import svm\n",
    "\n",
    "def create_svm_classifier(x, y):\n",
    "    #we will use linear SVM\n",
    "    C=1.0\n",
    "    classifier=svm.SVC(kernel=\"rbf\", C=C);\n",
    "    classifier.fit(x, y)\n",
    "    return classifier\n",
    "\n",
    "def calculate_accuracy(classifier, x, y):\n",
    "    predicted=classifier.predict(x)\n",
    "    return np.sum(y==predicted)/y.size\n",
    "\n",
    "#training the model\n",
    "classifier=create_svm_classifier(x_train, y_train)\n",
    "\n",
    "#checking the model's accuracy\n",
    "print(\"Accuracy: %.2lf%%\"%(100*calculate_accuracy(classifier, x_test, y_test)))"
   ]
  },
  {
   "cell_type": "code",
   "execution_count": 74,
   "metadata": {},
   "outputs": [
    {
     "name": "stdout",
     "output_type": "stream",
     "text": [
      "example num 0 [0]\n",
      "example num 1 [0]\n",
      "example num 2 [0]\n",
      "example num 3 [0]\n",
      "example num 4 [0]\n",
      "example num 5 [0]\n",
      "example num 6 [0]\n",
      "example num 7 [0]\n",
      "example num 8 [0]\n",
      "example num 9 [0]\n",
      "example num 10 [0]\n",
      "example num 11 [0]\n",
      "example num 12 [0]\n",
      "example num 13 [0]\n",
      "example num 14 [0]\n",
      "example num 15 [0]\n",
      "example num 16 [0]\n",
      "example num 17 [0]\n",
      "example num 18 [0]\n",
      "example num 19 [0]\n",
      "example num 20 [1]\n",
      "example num 21 [0]\n",
      "example num 22 [0]\n",
      "example num 23 [0]\n",
      "example num 24 [0]\n",
      "example num 25 [0]\n",
      "example num 26 [0]\n",
      "example num 27 [0]\n",
      "example num 28 [0]\n",
      "example num 29 [0]\n",
      "example num 30 [0]\n",
      "example num 31 [0]\n",
      "example num 32 [0]\n",
      "example num 33 [0]\n",
      "example num 34 [0]\n",
      "example num 35 [0]\n",
      "example num 36 [0]\n",
      "example num 37 [0]\n",
      "example num 38 [0]\n",
      "example num 39 [0]\n",
      "example num 40 [0]\n",
      "example num 41 [0]\n",
      "example num 42 [0]\n",
      "example num 43 [0]\n",
      "example num 44 [0]\n",
      "example num 45 [0]\n",
      "example num 46 [0]\n",
      "example num 47 [0]\n",
      "example num 48 [0]\n",
      "example num 49 [0]\n",
      "example num 50 [0]\n",
      "example num 51 [0]\n",
      "example num 52 [0]\n",
      "example num 53 [0]\n",
      "example num 54 [0]\n",
      "example num 55 [0]\n",
      "example num 56 [0]\n",
      "example num 57 [0]\n",
      "example num 58 [0]\n",
      "example num 59 [0]\n"
     ]
    }
   ],
   "source": [
    "for i in range(60):\n",
    "    test_example_1 = np.zeros((1, feature_layer_size))\n",
    "    img=image.load_img(\"plane/f16/\"+str(i)+\".jpg\", target_size=(224, 224))\n",
    "    img=image.img_to_array(img)\n",
    "    img=np.expand_dims(img, axis=0)\n",
    "    test_example_1[0,:]=preprocess_input(model.predict(img))\n",
    "    print(\"example num \"+str(i)+\" \" + str(classifier.predict(test_example_1)))"
   ]
  },
  {
   "cell_type": "code",
   "execution_count": 75,
   "metadata": {},
   "outputs": [
    {
     "name": "stdout",
     "output_type": "stream",
     "text": [
      "example num 0 [1]\n",
      "example num 1 [1]\n",
      "example num 2 [1]\n",
      "example num 3 [1]\n",
      "example num 4 [1]\n",
      "example num 5 [1]\n",
      "example num 6 [1]\n",
      "example num 7 [1]\n",
      "example num 8 [1]\n",
      "example num 9 [1]\n",
      "example num 10 [1]\n",
      "example num 11 [1]\n",
      "example num 12 [1]\n",
      "example num 13 [1]\n",
      "example num 14 [1]\n",
      "example num 15 [1]\n",
      "example num 16 [1]\n",
      "example num 17 [1]\n",
      "example num 18 [1]\n",
      "example num 19 [1]\n",
      "example num 20 [1]\n",
      "example num 21 [1]\n",
      "example num 22 [1]\n",
      "example num 23 [1]\n",
      "example num 24 [1]\n",
      "example num 25 [1]\n",
      "example num 26 [1]\n",
      "example num 27 [1]\n",
      "example num 28 [1]\n",
      "example num 29 [1]\n",
      "example num 30 [1]\n",
      "example num 31 [1]\n",
      "example num 32 [1]\n",
      "example num 33 [0]\n",
      "example num 34 [1]\n",
      "example num 35 [1]\n",
      "example num 36 [1]\n",
      "example num 37 [1]\n",
      "example num 38 [1]\n",
      "example num 39 [1]\n",
      "example num 40 [1]\n",
      "example num 41 [1]\n",
      "example num 42 [1]\n",
      "example num 43 [1]\n",
      "example num 44 [1]\n",
      "example num 45 [1]\n",
      "example num 46 [1]\n",
      "example num 47 [1]\n",
      "example num 48 [1]\n",
      "example num 49 [1]\n",
      "example num 50 [1]\n",
      "example num 51 [1]\n",
      "example num 52 [1]\n",
      "example num 53 [1]\n",
      "example num 54 [0]\n",
      "example num 55 [1]\n",
      "example num 56 [1]\n",
      "example num 57 [1]\n",
      "example num 58 [1]\n",
      "example num 59 [1]\n"
     ]
    }
   ],
   "source": [
    "for i in range(60):\n",
    "    test_example_2 = np.zeros((1,feature_layer_size))\n",
    "    img = image.load_img(\"plane/spitfire/\"+str(i)+\".jpg\",target_size=(224,224))\n",
    "    img = image.img_to_array(img)\n",
    "    img = np.expand_dims(img,axis=0)\n",
    "    test_example_2[0,:] = preprocess_input(model.predict(img))\n",
    "    print(\"example num \"+str(i)+\" \" + str(classifier.predict(test_example_2)))"
   ]
  },
  {
   "cell_type": "code",
   "execution_count": null,
   "metadata": {
    "collapsed": true
   },
   "outputs": [],
   "source": []
  }
 ],
 "metadata": {
  "kernelspec": {
   "display_name": "Python 3",
   "language": "python",
   "name": "python3"
  },
  "language_info": {
   "codemirror_mode": {
    "name": "ipython",
    "version": 3
   },
   "file_extension": ".py",
   "mimetype": "text/x-python",
   "name": "python",
   "nbconvert_exporter": "python",
   "pygments_lexer": "ipython3",
   "version": "3.6.3"
  }
 },
 "nbformat": 4,
 "nbformat_minor": 2
}
