{
 "cells": [
  {
   "cell_type": "markdown",
   "metadata": {},
   "source": [
    "# Exercise 4: LMS algorithm for stock price prediction\n",
    "\n",
    "## 4.1 Introduction\n",
    "\n",
    "In this exercise the *trainlms* function given below will be used.\n",
    "\n",
    "**Tasks**\n",
    "\n",
    "1. What does the function *trainlms* do?"
   ]
  },
  {
   "cell_type": "code",
   "execution_count": null,
   "metadata": {
    "collapsed": true
   },
   "outputs": [],
   "source": [
    "import numpy as np\n",
    "\n",
    "def predict(W, A):\n",
    "    return W@np.vstack([-np.ones((1, A.shape[1])), A])\n",
    "\n",
    "def trainlms(ni, x, d, W, max_epoch):\n",
    "    w=W.copy()\n",
    "    \n",
    "    n=0\n",
    "    errors=[]\n",
    "    while (n<max_epoch):\n",
    "        n+=1\n",
    "        y=predict(w, x)\n",
    "        e=d-y\n",
    "        w+=ni*e@np.vstack([-np.ones((1, x.shape[1])), x]).T\n",
    "        error=np.sum(np.square(e))\n",
    "        errors.append(error)\n",
    "        if (error<0.02):\n",
    "            break\n",
    "    return w, errors"
   ]
  },
  {
   "cell_type": "markdown",
   "metadata": {},
   "source": [
    "## 4.2 Stock price movement\n",
    "\n",
    "In this experiment we will use the LMS algorithm in order to predict the stock price for a given stock. Load the data from file *stock.txt* into variable *data*. Numbers (elements of vector *data*) show the movement of average daily price of the given share in time. Plot the variable *data* using the following commands:"
   ]
  },
  {
   "cell_type": "code",
   "execution_count": null,
   "metadata": {},
   "outputs": [],
   "source": [
    "data=np.loadtxt(\"stock.txt\", delimiter=\",\")\n",
    "\n",
    "import matplotlib.pyplot as plt\n",
    "plt.plot(range(1, data.shape[0]+1), data)\n",
    "plt.show()"
   ]
  },
  {
   "cell_type": "markdown",
   "metadata": {},
   "source": [
    "The goal of this exercise is to use several (let us say $N$) previous share prices in order to predict the share price for today. This is useful because we can buy or sell the price before its price rises or falls and in that way increase our profit or lower our loss. The first step is to find the input-output pairs, which will be used on order to train our network. The size of this set will be defined using variable $i$. Our inputs will be vectors $\\mathbf{a}_i$, which we put in matrix $\\mathbf{A}$. Outputs are scalar values, which we put in vector $y$.\n",
    "\n",
    "**Tasks**\n",
    "\n",
    "1. Write the function *memory*, which for given day in the year (index of the variable *data*) constructs a column vector $\\mathbf{a}$ whose elements represent the prices for last *N* days but without the price for today.\n",
    "2. Using the function *memory *write a function *memorize*, which for given inputs (*data*, *day*, *N*, *i*) constructs the matrix $\\mathbf{A}$ in which each column vector represents the $\\mathbf{a}_i$ for the previous day. So, matrix $\\mathbf{A}$ memorizes $i$ memories which we will use in order to train our network."
   ]
  },
  {
   "cell_type": "code",
   "execution_count": null,
   "metadata": {},
   "outputs": [],
   "source": [
    "# WRITE YOUR CODE HERE"
   ]
  },
  {
   "cell_type": "markdown",
   "metadata": {},
   "source": [
    "Construct the matrix $\\mathbf{A}$ using the command:"
   ]
  },
  {
   "cell_type": "code",
   "execution_count": null,
   "metadata": {},
   "outputs": [],
   "source": [
    "day=151\n",
    "N=70\n",
    "i=50\n",
    "A=memorize(data, day, N, i)"
   ]
  },
  {
   "cell_type": "markdown",
   "metadata": {},
   "source": [
    "The output vector is constructed using the command:"
   ]
  },
  {
   "cell_type": "code",
   "execution_count": null,
   "metadata": {},
   "outputs": [],
   "source": [
    "y=np.array([data[day-i+1:day+1]])"
   ]
  },
  {
   "cell_type": "markdown",
   "metadata": {},
   "source": [
    "We initialize the perceptron as follows:"
   ]
  },
  {
   "cell_type": "code",
   "execution_count": null,
   "metadata": {
    "collapsed": true
   },
   "outputs": [],
   "source": [
    "def initp(data, labels):\n",
    "    return -0.5+np.random.rand(labels.shape[0], data.shape[0]+1)\n",
    "\n",
    "W=initp(A, y)"
   ]
  },
  {
   "cell_type": "markdown",
   "metadata": {},
   "source": [
    "We train the perceptron using the command:"
   ]
  },
  {
   "cell_type": "code",
   "execution_count": null,
   "metadata": {},
   "outputs": [],
   "source": [
    "ni=1e-8\n",
    "max_num_iter=10000\n",
    "\n",
    "W1, errors=trainlms(ni, A, y, W, max_num_iter)"
   ]
  },
  {
   "cell_type": "markdown",
   "metadata": {},
   "source": [
    "Weights of the network are memorized in the matrix $\\mathbf{W}_1$. Variable *ni* should be experimentally found. Train the network for different values of *i*, *N*, *max_num_iter*. We can visualize the output of the network on the training data using the following command:"
   ]
  },
  {
   "cell_type": "code",
   "execution_count": null,
   "metadata": {},
   "outputs": [],
   "source": [
    "p=predict(W1, A)\n",
    "\n",
    "plt.plot(range(1, y[0].shape[0]+1), y[0])\n",
    "plt.plot(range(1, p[0].shape[0]+1), p[0], c=\"red\")\n",
    "plt.show()"
   ]
  },
  {
   "cell_type": "markdown",
   "metadata": {},
   "source": [
    "Here, the blue color shows the predicted values and the red color shows the real outputs.\n",
    "\n",
    "**Tasks**\n",
    "\n",
    "1. Memorize different weight matrices ($\\mathbf{W}_1$, $\\mathbf{W}_2$...) with different combinations of following parameters *i*=30, 50 or 100; *N*=20, 50 or 80; *max_num_iter*=10000, 50000 or 500000. (Choose 6 different combinations.) For selected parameter combinations show the obtained predictions with real values. Comment the obtained results."
   ]
  },
  {
   "cell_type": "code",
   "execution_count": null,
   "metadata": {
    "collapsed": true
   },
   "outputs": [],
   "source": [
    "# WRITE YOUR CODE HERE"
   ]
  },
  {
   "cell_type": "markdown",
   "metadata": {},
   "source": [
    "If we do not use any intelligence for stock price prediction and we assume the price will be (almost) the same tomorrow, the error we make is:"
   ]
  },
  {
   "cell_type": "code",
   "execution_count": null,
   "metadata": {},
   "outputs": [],
   "source": [
    "a=data[day:day+1]          # price today - we assume the same price tomorrow\n",
    "y=data[day+1:day+2]        # the real price tomorrow\n",
    "err_oo=np.sum(np.abs(y-a)) # error"
   ]
  },
  {
   "cell_type": "markdown",
   "metadata": {},
   "source": [
    "If we use the network trained on previous days to predict the price for tomorrow, the error is as follows:"
   ]
  },
  {
   "cell_type": "code",
   "execution_count": null,
   "metadata": {},
   "outputs": [],
   "source": [
    "p=predict(W1, memorize(data, day+1, N, 1))\n",
    "err_nn=np.sum(np.abs(y-p))"
   ]
  },
  {
   "cell_type": "markdown",
   "metadata": {},
   "source": [
    "If we trade each day with the given stock, our error can be easily measured. Our potential profit can be calculated as follows:"
   ]
  },
  {
   "cell_type": "code",
   "execution_count": null,
   "metadata": {},
   "outputs": [],
   "source": [
    "profit=err_oo-err_nn\n",
    "print(profit)"
   ]
  },
  {
   "cell_type": "markdown",
   "metadata": {},
   "source": [
    "To predict the price of the day after tomorrow, we could use the same network or we could train the network from scratch by also using the data of the day before the day after tomorrow i.e. by using the data of tomorrow. Which way would be better?\n",
    "\n",
    "**Tasks**\n",
    "\n",
    "1. Create a table in which you will show the obtained profit levels depending on the parameters used (*i*, *N*, and *max_num_iter*). For of these parameter triplets the profit should be the sum of the profit for every possible *day* for which training data defined by *i* and *N* exists."
   ]
  },
  {
   "cell_type": "code",
   "execution_count": null,
   "metadata": {
    "collapsed": true
   },
   "outputs": [],
   "source": [
    "# WRITE YOUR CODE HERE"
   ]
  }
 ],
 "metadata": {
  "kernelspec": {
   "display_name": "Python 3",
   "language": "python",
   "name": "python3"
  },
  "language_info": {
   "codemirror_mode": {
    "name": "ipython",
    "version": 3
   },
   "file_extension": ".py",
   "mimetype": "text/x-python",
   "name": "python",
   "nbconvert_exporter": "python",
   "pygments_lexer": "ipython3",
   "version": "3.6.1"
  }
 },
 "nbformat": 4,
 "nbformat_minor": 2
}
