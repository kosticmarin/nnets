{
 "cells": [
  {
   "cell_type": "markdown",
   "metadata": {
    "collapsed": true
   },
   "source": [
    "# Exercise 5: Multilayer perceptron\n",
    "\n",
    "The focus of this exercise will be on multilayer perceptron and to do that in a simpler way, an introduction to TensorFlow is given first.\n",
    "\n",
    "## 5.1 Introduction to TensorFlow\n",
    "\n",
    "TensorFlow is an open-source symbolic math software library used for machine learning applications such as neural networks. The following command is used to import TensorFlow in the Python code:"
   ]
  },
  {
   "cell_type": "code",
   "execution_count": 1,
   "metadata": {
    "collapsed": true
   },
   "outputs": [],
   "source": [
    "import tensorflow as tf"
   ]
  },
  {
   "cell_type": "markdown",
   "metadata": {},
   "source": [
    "### 5.1.1 Constants, sessions, and operations\n",
    "TensorFlow is based around tensors - *n*-dimensional arrays of a given type. Three main tensor types in TensorFlow are constant, variable, and placeholder. To create a constant, the [tf.constant()](https://www.tensorflow.org/api_docs/python/tf/constant) method is used:"
   ]
  },
  {
   "cell_type": "code",
   "execution_count": 2,
   "metadata": {},
   "outputs": [
    {
     "name": "stdout",
     "output_type": "stream",
     "text": [
      "Tensor(\"Const:0\", shape=(), dtype=int32)\n"
     ]
    }
   ],
   "source": [
    "c=tf.constant(2)\n",
    "print(c)"
   ]
  },
  {
   "cell_type": "markdown",
   "metadata": {},
   "source": [
    "This constant tensor like other tensors has a value, a shape, a data type, and a name. These can be directly specified:"
   ]
  },
  {
   "cell_type": "code",
   "execution_count": 3,
   "metadata": {},
   "outputs": [
    {
     "name": "stdout",
     "output_type": "stream",
     "text": [
      "Tensor(\"our_constant:0\", shape=(2, 5), dtype=float32)\n"
     ]
    }
   ],
   "source": [
    "c=tf.constant(3, shape=(2, 5), dtype=tf.float32, name=\"our_constant\")\n",
    "print(c)"
   ]
  },
  {
   "cell_type": "markdown",
   "metadata": {},
   "source": [
    "To evaluate a tensor, a [Session](https://www.tensorflow.org/api_docs/python/tf/Session) instance is required. Sessions are environments where tensors and operations are executed. A session can be created and then used for evaluation as follows:"
   ]
  },
  {
   "cell_type": "code",
   "execution_count": 4,
   "metadata": {},
   "outputs": [
    {
     "name": "stdout",
     "output_type": "stream",
     "text": [
      "[[ 3.  3.  3.  3.  3.]\n",
      " [ 3.  3.  3.  3.  3.]]\n"
     ]
    }
   ],
   "source": [
    "session=tf.Session()\n",
    "print(session.run(c))"
   ]
  },
  {
   "cell_type": "markdown",
   "metadata": {},
   "source": [
    "Other useful ways of creating constant tensors include the methods [tf.zeros()](https://www.tensorflow.org/api_docs/python/tf/zeros) and [tf.ones()](https://www.tensorflow.org/api_docs/python/tf/ones):"
   ]
  },
  {
   "cell_type": "code",
   "execution_count": 5,
   "metadata": {},
   "outputs": [
    {
     "name": "stdout",
     "output_type": "stream",
     "text": [
      "[[ 0.  0.  0.]\n",
      " [ 0.  0.  0.]]\n",
      "[[ 1.]\n",
      " [ 1.]\n",
      " [ 1.]]\n"
     ]
    }
   ],
   "source": [
    "z=tf.zeros((2, 3))\n",
    "print(session.run(z))\n",
    "\n",
    "o=tf.ones((3, 1))\n",
    "print(session.run(o))"
   ]
  },
  {
   "cell_type": "markdown",
   "metadata": {},
   "source": [
    "The most common methods to create tensors with random values are [tf.random_uniform](https://www.tensorflow.org/api_docs/python/tf/random_uniform) and [tf.random_normal](https://www.tensorflow.org/api_docs/python/tf/random_normal):"
   ]
  },
  {
   "cell_type": "code",
   "execution_count": 6,
   "metadata": {},
   "outputs": [
    {
     "name": "stdout",
     "output_type": "stream",
     "text": [
      "[[ 2.50471497  3.20345545  2.22720933  3.15086555]\n",
      " [ 6.02471256  5.7553606   2.40120959  4.41457987]]\n",
      "[[-0.38866007  0.04213262 -0.35970542  1.1231339 ]\n",
      " [-1.06264019 -0.05452274  0.16148189  1.00665569]]\n"
     ]
    }
   ],
   "source": [
    "u=tf.random_uniform(shape=(2, 4), minval=2, maxval=7)\n",
    "print(session.run(u))\n",
    "\n",
    "n=tf.random_normal(shape=(2, 4), mean=0, stddev=1)\n",
    "print(session.run(n))"
   ]
  },
  {
   "cell_type": "markdown",
   "metadata": {},
   "source": [
    "Applying addition, subtraction, multiplication, and division to tensors can be achieved by using operators +, -, *, and / or by calling  [tf.add()](https://www.tensorflow.org/api_docs/python/tf/add), [tf.subtract()](https://www.tensorflow.org/api_docs/python/tf/subtract), [tf.multiply()](https://www.tensorflow.org/api_docs/python/tf/multiply), [tf.divide()](https://www.tensorflow.org/api_docs/python/tf/divide). Each of these operations is performed element-wise, e.g. when applied to matrices, [tf.multiply()](https://www.tensorflow.org/api_docs/python/tf/multiply) is not matrix multiplication like [tf.matmul()](https://www.tensorflow.org/api_docs/python/tf/matmul), but element-wise multiplication."
   ]
  },
  {
   "cell_type": "code",
   "execution_count": 7,
   "metadata": {},
   "outputs": [
    {
     "name": "stdout",
     "output_type": "stream",
     "text": [
      "[[ 8.  8.]]\n",
      "[[-1. -1.]]\n",
      "[[ 2.  2.]]\n",
      "[[ 0.5  0.5]]\n"
     ]
    }
   ],
   "source": [
    "a=tf.ones((1, 2))\n",
    "b=2*tf.ones((1, 2))\n",
    "\n",
    "print(session.run(a+b+5))\n",
    "print(session.run(tf.subtract(a, b)))\n",
    "print(session.run(a*b))\n",
    "print(session.run(tf.divide(a, b)))"
   ]
  },
  {
   "cell_type": "markdown",
   "metadata": {},
   "source": [
    "Some other operations include [tf.abs()](https://www.tensorflow.org/api_docs/python/tf/abs), [tf.exp()](https://www.tensorflow.org/api_docs/python/tf/exp), [tf.matmul()](https://www.tensorflow.org/api_docs/python/tf/matmul), [tf.pow()](https://www.tensorflow.org/api_docs/python/tf/pow), [tf.square()](https://www.tensorflow.org/api_docs/python/tf/square), [tf.transpose()](https://www.tensorflow.org/api_docs/python/tf/transpose)."
   ]
  },
  {
   "cell_type": "code",
   "execution_count": 8,
   "metadata": {},
   "outputs": [
    {
     "name": "stdout",
     "output_type": "stream",
     "text": [
      "[[ 1.27414322]\n",
      " [ 1.71011102]\n",
      " [ 4.21111012]\n",
      " [ 3.64093161]\n",
      " [ 2.93537712]]\n"
     ]
    }
   ],
   "source": [
    "print(session.run(tf.transpose(tf.abs(tf.random_normal((1, 5), mean=0, stddev=3)))))"
   ]
  },
  {
   "cell_type": "markdown",
   "metadata": {},
   "source": [
    "### 5.1.2 Placeholders and variables\n",
    "Tensors used for more complex data and computation are [placeholders](https://www.tensorflow.org/api_docs/python/tf/placeholder) and [variables](https://www.tensorflow.org/api_docs/python/tf/Variable). Placeholders are providers of future values and mostly serve to take the input to the network. For this reasong thay cannot be directly evaluated unless its value is \"fed\" i.e. given by means of dictionary."
   ]
  },
  {
   "cell_type": "code",
   "execution_count": 9,
   "metadata": {},
   "outputs": [
    {
     "name": "stdout",
     "output_type": "stream",
     "text": [
      "-5.0\n",
      "5.0\n",
      "[ 17.   1.   2.]\n",
      "\n",
      "\n",
      "\n",
      "[[ 1.  2.  3.]\n",
      " [ 2.  4.  6.]\n",
      " [ 3.  6.  9.]]\n",
      "[[ 14.]]\n"
     ]
    }
   ],
   "source": [
    "#we create a placeholder\n",
    "a=tf.placeholder(dtype=tf.float32)\n",
    "\n",
    "#this would produce an error\n",
    "#print(session.run(a))\n",
    "\n",
    "#but not this\n",
    "print(session.run(a, feed_dict={a:-5}))\n",
    "\n",
    "#we use its value later\n",
    "b=tf.abs(a)\n",
    "\n",
    "#to provide a value to the placeholder, feed_dict is used\n",
    "print(session.run(b, feed_dict={a:-5}))\n",
    "#we can also use different input size\n",
    "print(session.run(b, feed_dict={a:[-17, 1, -2]}))\n",
    "\n",
    "print(\"\\n\\n\")\n",
    "\n",
    "m1=tf.placeholder(dtype=tf.float32)\n",
    "m2=tf.placeholder(dtype=tf.float32)\n",
    "\n",
    "p=tf.matmul(m1, m2)\n",
    "print(session.run(p, feed_dict={m1:[[1], [2], [3]], m2:[[1, 2, 3]]}))\n",
    "print(session.run(p, feed_dict={m1:[[1, 2, 3]], m2:[[1], [2], [3]]}))\n"
   ]
  },
  {
   "cell_type": "markdown",
   "metadata": {},
   "source": [
    "Variable are mostly used for trainable parameters. While constants are intialized when created,variables are initialized within the session by a procedure that must be defined. Manual assignment of new values tan be is possible using [tf.assign()](https://www.tensorflow.org/api_docs/python/tf/assign). Variables are mostly changed during the optimization process.\n"
   ]
  },
  {
   "cell_type": "code",
   "execution_count": 10,
   "metadata": {},
   "outputs": [
    {
     "name": "stdout",
     "output_type": "stream",
     "text": [
      "3\n",
      "[[ 0.81913841  0.51047146  0.99225414]\n",
      " [ 0.04949152  0.70751309  0.2673707 ]]\n"
     ]
    }
   ],
   "source": [
    "session=tf.Session()\n",
    "#a constant is used for the initialization procedure\n",
    "a=tf.Variable(3)\n",
    "#random values will be used for initialization\n",
    "b=tf.Variable(tf.random_uniform(shape=(2, 3)))\n",
    "\n",
    "#this would produce an error since the variable has not been initialized - only the initialization procedure has been defined\n",
    "#print(session.run(a))\n",
    "\n",
    "#initialize all variables\n",
    "session.run(tf.global_variables_initializer())\n",
    "#now evaluate the variable\n",
    "print(session.run(a))\n",
    "print(session.run(b))"
   ]
  },
  {
   "cell_type": "markdown",
   "metadata": {
    "collapsed": true
   },
   "source": [
    "### 5.1.3 Linear regression\n",
    "To have an example of a fully written network, let's now implement simple multivariate linear regression using TensorFlow. The used model will be $y=\\mathbf{w}^{T}\\mathbf{x}+\\mathbf{b}$."
   ]
  },
  {
   "cell_type": "code",
   "execution_count": 11,
   "metadata": {
    "collapsed": true
   },
   "outputs": [],
   "source": [
    "#data placeholders - this will be used for the given features and for the ground-truth value of y\n",
    "x=tf.placeholder(dtype=tf.float32, shape=[None, 3])\n",
    "y=tf.placeholder(dtype=tf.float32, shape=[None, 1])\n",
    "\n",
    "#parameter variables\n",
    "w=tf.Variable(tf.random_normal(shape=(3, 1)))\n",
    "b=tf.Variable(tf.random_normal([1, 1]))\n",
    "\n",
    "#the model for y - this will be used for the predicted value of y\n",
    "y_predicted=tf.matmul(x, w)+b"
   ]
  },
  {
   "cell_type": "markdown",
   "metadata": {},
   "source": [
    "TensorFlow trains a model i.e. learns its parameter values by minimizing a loss function that needs to be defined. The minimization is carried out by a defined optimizer object by calling its [minimize()](https://www.tensorflow.org/api_docs/python/tf/train/Optimizer#minimize) method called. The learning rate chosen when defining the optimizer objects and the number of training epochs will have a significant impact on the model training process by influencing how fast the learning process will converge."
   ]
  },
  {
   "cell_type": "code",
   "execution_count": 12,
   "metadata": {},
   "outputs": [
    {
     "name": "stdout",
     "output_type": "stream",
     "text": [
      "Epoch #10: 0.402786\n",
      "Epoch #20: 0.023619\n",
      "Epoch #30: 0.00153801\n",
      "Epoch #40: 0.000104485\n",
      "Epoch #50: 7.22282e-06\n",
      "Epoch #60: 5.02955e-07\n",
      "Epoch #70: 3.50975e-08\n",
      "Epoch #80: 2.45947e-09\n",
      "Epoch #90: 1.73495e-10\n",
      "Epoch #100: 1.24497e-11\n",
      "[[ 0.99999839]\n",
      " [ 2.99999762]\n",
      " [-1.99999654]]\n"
     ]
    }
   ],
   "source": [
    "#the loss function will be mean square\n",
    "loss=tf.reduce_mean(tf.square(y_predicted-y))\n",
    "\n",
    "#gradient descent optimizer with learning rate 0.1\n",
    "optimizer=tf.train.GradientDescentOptimizer(0.1)\n",
    "\n",
    "#train operation\n",
    "train=optimizer.minimize(loss)\n",
    "\n",
    "#generation data for regression\n",
    "import numpy as np\n",
    "w_real=np.array([[1], [3], [-2]])\n",
    "x_train=np.random.normal(size=(100, 3))\n",
    "y_train=(w_real.T@x_train.T).T;\n",
    "\n",
    "session.run(tf.global_variables_initializer())\n",
    "for epoch in range(100):\n",
    "    session.run(train, feed_dict={x:x_train, y:y_train})\n",
    "    if ((epoch+1)%10==0):\n",
    "        print(\"Epoch #\"+str(epoch+1)+\": \"+str(session.run(loss, feed_dict={x:x_train, y:y_train})))\n",
    "\n",
    "#print the trained weights\n",
    "print(session.run(w))"
   ]
  },
  {
   "cell_type": "markdown",
   "metadata": {},
   "source": [
    "## 5.2 The XOR problem\n",
    "XOR samples are not linearly separable. However, they can be separated by introducing non-linearities. In TensorFlow some of them include [tf.sigmoid()](https://www.tensorflow.org/api_docs/python/tf/sigmoid), [tf.tanh()](https://www.tensorflow.org/api_docs/python/tf/tanh), [tf.nn.relu()](https://www.tensorflow.org/api_docs/python/tf/nn/relu), etc. Besides the common [tf.train.GradientDescentOptimizer](https://www.tensorflow.org/api_docs/python/tf/train/GradientDescentOptimizer), there are other optimizers as well, e.g. [tf.train.AdamOptimizer](https://www.tensorflow.org/api_docs/python/tf/train/AdamOptimizer).\n",
    "\n",
    "**Task**\n",
    "\n",
    "Below is the code for solving the XOR problem in TensorFlow. Determine how many epochs are required for the training process to converge for each combination of the chosen activation function, optimizer, and various learning rates. Which combination turned out to be the best?"
   ]
  },
  {
   "cell_type": "code",
   "execution_count": 25,
   "metadata": {},
   "outputs": [
    {
     "name": "stdout",
     "output_type": "stream",
     "text": [
      "Epoch #100: 0.250031\n",
      "Epoch #200: 0.25\n",
      "Epoch #300: 0.25\n",
      "Epoch #400: 0.25\n",
      "Epoch #500: 0.25\n",
      "Epoch #600: 0.25\n",
      "Epoch #700: 0.25\n",
      "Epoch #800: 0.25\n",
      "Epoch #900: 0.25\n",
      "Epoch #1000: 0.25\n",
      "Epoch #1100: 0.25\n",
      "Epoch #1200: 0.25\n",
      "Epoch #1300: 0.25\n",
      "Epoch #1400: 0.25\n",
      "Epoch #1500: 0.25\n",
      "Epoch #1600: 0.25\n",
      "Epoch #1700: 0.25\n",
      "Epoch #1800: 0.25\n",
      "Epoch #1900: 0.25\n",
      "Epoch #2000: 0.25\n",
      "Epoch #2100: 0.25\n",
      "Epoch #2200: 0.25\n",
      "Epoch #2300: 0.25\n",
      "Epoch #2400: 0.25\n",
      "Epoch #2500: 0.25\n",
      "Epoch #2600: 0.25\n",
      "Epoch #2700: 0.25\n",
      "Epoch #2800: 0.25\n",
      "Epoch #2900: 0.25\n",
      "Epoch #3000: 0.25\n",
      "Epoch #3100: 0.25\n",
      "Epoch #3200: 0.25\n",
      "Epoch #3300: 0.25\n",
      "Epoch #3400: 0.25\n",
      "Epoch #3500: 0.25\n",
      "Epoch #3600: 0.25\n",
      "Epoch #3700: 0.25\n",
      "Epoch #3800: 0.25\n",
      "Epoch #3900: 0.25\n",
      "Epoch #4000: 0.25\n",
      "Epoch #4100: 0.25\n",
      "Epoch #4200: 0.25\n",
      "Epoch #4300: 0.25\n",
      "Epoch #4400: 0.25\n",
      "Epoch #4500: 0.25\n",
      "Epoch #4600: 0.25\n",
      "Epoch #4700: 0.25\n",
      "Epoch #4800: 0.25\n",
      "Epoch #4900: 0.25\n",
      "Epoch #5000: 0.25\n",
      "Epoch #5100: 0.25\n",
      "Epoch #5200: 0.25\n",
      "Epoch #5300: 0.25\n",
      "Epoch #5400: 0.25\n",
      "Epoch #5500: 0.25\n",
      "Epoch #5600: 0.25\n",
      "Epoch #5700: 0.25\n",
      "Epoch #5800: 0.25\n",
      "Epoch #5900: 0.25\n",
      "Epoch #6000: 0.25\n",
      "Epoch #6100: 0.25\n",
      "Epoch #6200: 0.25\n",
      "Epoch #6300: 0.25\n",
      "Epoch #6400: 0.25\n",
      "Epoch #6500: 0.25\n",
      "Epoch #6600: 0.25\n",
      "Epoch #6700: 0.25\n",
      "Epoch #6800: 0.25\n",
      "Epoch #6900: 0.25\n",
      "Epoch #7000: 0.25\n",
      "Epoch #7100: 0.25\n",
      "Epoch #7200: 0.25\n",
      "Epoch #7300: 0.25\n",
      "Epoch #7400: 0.25\n",
      "Epoch #7500: 0.25\n",
      "Epoch #7600: 0.25\n",
      "Epoch #7700: 0.25\n",
      "Epoch #7800: 0.25\n",
      "Epoch #7900: 0.25\n",
      "Epoch #8000: 0.25\n",
      "Epoch #8100: 0.25\n",
      "Epoch #8200: 0.25\n",
      "Epoch #8300: 0.25\n",
      "Epoch #8400: 0.25\n",
      "Epoch #8500: 0.25\n",
      "Epoch #8600: 0.25\n",
      "Epoch #8700: 0.25\n",
      "Epoch #8800: 0.25\n",
      "Epoch #8900: 0.25\n",
      "Epoch #9000: 0.25\n",
      "Epoch #9100: 0.25\n",
      "Epoch #9200: 0.25\n",
      "Epoch #9300: 0.25\n",
      "Epoch #9400: 0.25\n",
      "Epoch #9500: 0.25\n",
      "Epoch #9600: 0.25\n",
      "Epoch #9700: 0.25\n",
      "Epoch #9800: 0.25\n",
      "Epoch #9900: 0.25\n",
      "Epoch #10000: 0.25\n"
     ]
    }
   ],
   "source": [
    "#activation_type=tf.nn.sigmoid;\n",
    "#activation_type=tf.nn.tanh;\n",
    "activation_type=tf.nn.relu;\n",
    "\n",
    "#optimizer_type=tf.train.GradientDescentOptimizer\n",
    "optimizer_type=tf.train.AdamOptimizer\n",
    "\n",
    "learning_rate=0.1;\n",
    "\n",
    "\n",
    "\n",
    "threshold=1e-4\n",
    "\n",
    "session=tf.Session()\n",
    "\n",
    "#training data\n",
    "x_train=np.array([[0, 0], [0, 1], [1, 0], [1, 1]])\n",
    "y_train=np.array([[0], [1], [1], [0]])\n",
    "\n",
    "x=tf.placeholder(tf.float32, [None, 2])\n",
    "y=tf.placeholder(tf.float32, [None, 1])\n",
    "\n",
    "w1=tf.Variable(tf.random_uniform((2, 2)))\n",
    "b1=tf.Variable(tf.random_uniform([2]))\n",
    "\n",
    "w2=tf.Variable(tf.random_uniform((2, 1)))\n",
    "b2=tf.Variable(tf.random_uniform([1]))\n",
    "\n",
    "\n",
    "f1=tf.matmul(x, w1)+b1\n",
    "f2=activation_type(f1)\n",
    "y_predicted=tf.matmul(f2, w2)+b2\n",
    "\n",
    "loss=tf.reduce_mean(tf.square(y_predicted-y))\n",
    "\n",
    "optimizer=optimizer_type(learning_rate)\n",
    "train=optimizer.minimize(loss)\n",
    "\n",
    "session.run(tf.global_variables_initializer())\n",
    "\n",
    "for epoch in range(10000):\n",
    "    session.run(train, feed_dict={x:x_train, y:y_train})\n",
    "    error=session.run(loss,{x:x_train, y:y_train})\n",
    "    if ((epoch+1)%100==0):\n",
    "        print(\"Epoch #\"+str(epoch+1)+\": \"+str(error))\n",
    "    if (error<threshold):\n",
    "        print(\"Threshold passed at epoch #\"+str(epoch+1)+\".\");\n",
    "        break;\n",
    "\n",
    "session.close();"
   ]
  },
  {
   "cell_type": "markdown",
   "metadata": {},
   "source": [
    "## Results\n",
    "\n",
    "Activation sigmoid + GradDescent : 4002 Epoch's\n",
    "\n",
    "Activation sigmoid + AdamOptimizer : 221 Epoch's\n",
    "\n",
    "Activation tanh + GradDescent : 862 Epoch's\n",
    "\n",
    "Activation tanh + AdamOptimizer : 116 Epoch's\n",
    "\n",
    "Activation relu + GradDescent : 10000 Epoch's    // did not converge cause relu is linear\n",
    "\n",
    "Activation relu + AdamOptimizer : 10000 Epoch's // did not converge cause relu is linear"
   ]
  },
  {
   "cell_type": "markdown",
   "metadata": {},
   "source": [
    "## 5.3 The MNIST dataset\n",
    "[The MNIST dataset](http://yann.lecun.com/exdb/mnist/) contains 60,000 training and 10,000 test images of handwritten digits. It is used to test the ability of a method to recognize which digit is on a given image. Although spatial distribution of individual image pixels matters, in this example we are going to disregard it and simply use individual pixel values as features. There are $28\\cdot 28=784$ pixels i.e. features per image. The basic code is given below.\n",
    "\n",
    "**Task**\n",
    "\n",
    "Experiment with different activation functions, learning rates, batch sizes, optimizers, and architectures. What is the best combination of them? Which of them has the highest impact on the accuracy and rate of convergence? How about the size of hidden layers? Make the comparisons and draw the appropriate plots."
   ]
  },
  {
   "cell_type": "code",
   "execution_count": 5,
   "metadata": {},
   "outputs": [
    {
     "name": "stdout",
     "output_type": "stream",
     "text": [
      "Extracting mnist/train-images-idx3-ubyte.gz\n",
      "Extracting mnist/train-labels-idx1-ubyte.gz\n",
      "Extracting mnist/t10k-images-idx3-ubyte.gz\n",
      "Extracting mnist/t10k-labels-idx1-ubyte.gz\n",
      "Epoch #1 0.8029\n",
      "Epoch #2 0.8584\n",
      "Epoch #3 0.8763\n",
      "Epoch #4 0.8919\n",
      "Epoch #5 0.9012\n",
      "Epoch #6 0.9089\n",
      "Epoch #7 0.9139\n",
      "Epoch #8 0.9148\n",
      "Epoch #9 0.9215\n",
      "Epoch #10 0.9266\n",
      "Epoch #11 0.9262\n",
      "Epoch #12 0.9279\n",
      "Epoch #13 0.9269\n",
      "Epoch #14 0.9285\n",
      "Epoch #15 0.9337\n",
      "Epoch #16 0.9313\n",
      "Epoch #17 0.9308\n",
      "Epoch #18 0.9313\n",
      "Epoch #19 0.9354\n",
      "Epoch #20 0.9335\n",
      "Epoch #21 0.9347\n",
      "Epoch #22 0.9349\n",
      "Epoch #23 0.9341\n",
      "Epoch #24 0.9367\n",
      "Epoch #25 0.9368\n",
      "Epoch #26 0.9396\n",
      "Epoch #27 0.9388\n",
      "Epoch #28 0.9372\n",
      "Epoch #29 0.9395\n",
      "Epoch #30 0.9406\n",
      "Epoch #31 0.9427\n",
      "Epoch #32 0.944\n",
      "Epoch #33 0.9446\n",
      "Epoch #34 0.9441\n",
      "Epoch #35 0.9433\n",
      "Epoch #36 0.944\n",
      "Epoch #37 0.9453\n",
      "Epoch #38 0.945\n",
      "Epoch #39 0.9476\n",
      "Epoch #40 0.9458\n"
     ]
    }
   ],
   "source": [
    "#use MNIST data\n",
    "from tensorflow.examples.tutorials.mnist import input_data\n",
    "mnist=input_data.read_data_sets(\"mnist/\", one_hot=True)\n",
    "\n",
    "import tensorflow as tf\n",
    "\n",
    "#settings\n",
    "learning_rate=0.001\n",
    "training_epochs_count=40\n",
    "batch_size=100\n",
    "batches_count=int(mnist.train.num_examples/batch_size)\n",
    "\n",
    "activation_function=tf.nn.relu\n",
    "optimizer_type=tf.train.AdamOptimizer\n",
    "\n",
    "batch_size=100\n",
    "display_step=1\n",
    "\n",
    "#architecture\n",
    "hidden_layer_size_1=128\n",
    "hidden_layer_size_2=128\n",
    "hidden_layer_size_3=128\n",
    "hidden_layer_size_4=128\n",
    "input_size=784\n",
    "n_classes=10\n",
    "\n",
    "#data input\n",
    "x=tf.placeholder(tf.float32, [None, input_size])\n",
    "y=tf.placeholder(tf.float32, [None, n_classes])\n",
    "\n",
    "#weights\n",
    "w1=tf.Variable(tf.random_normal([input_size, hidden_layer_size_1]))\n",
    "w2=tf.Variable(tf.random_normal([hidden_layer_size_1, hidden_layer_size_2]))\n",
    "w3=tf.Variable(tf.random_normal([hidden_layer_size_2,hidden_layer_size_3]))\n",
    "w4=tf.Variable(tf.random_normal([hidden_layer_size_3,hidden_layer_size_4]))\n",
    "w5=tf.Variable(tf.random_normal([hidden_layer_size_2, n_classes]))\n",
    "\n",
    "#biases\n",
    "b1=tf.Variable(tf.random_normal([hidden_layer_size_1]))\n",
    "b2=tf.Variable(tf.random_normal([hidden_layer_size_2]))\n",
    "b3=tf.Variable(tf.random_normal([hidden_layer_size_3]))\n",
    "b4=tf.Variable(tf.random_normal([hidden_layer_size_4]))\n",
    "b5=tf.Variable(tf.random_normal([n_classes]))\n",
    "\n",
    "#layers\n",
    "layer_1=activation_function(tf.add(tf.matmul(x, w1), b1))\n",
    "layer_2=activation_function(tf.add(tf.matmul(layer_1, w2), b2))\n",
    "layer_3=activation_function(tf.add(tf.matmul(layer_2,w3),b3))\n",
    "layer_4=activation_function(tf.add(tf.matmul(layer_3,w4),b4))\n",
    "y_predicted=tf.matmul(layer_2, w5)+b5\n",
    "\n",
    "cost=tf.reduce_mean(tf.nn.softmax_cross_entropy_with_logits(logits=y_predicted, labels=y))\n",
    "optimizer=optimizer_type(learning_rate=learning_rate).minimize(cost)\n",
    "\n",
    "\n",
    "session=tf.Session();\n",
    "session.run(tf.global_variables_initializer())\n",
    "\n",
    "correct_y_predictediction=tf.equal(tf.argmax(y_predicted, 1), tf.argmax(y, 1))\n",
    "accuracy=tf.reduce_mean(tf.cast(correct_y_predictediction, tf.float32))\n",
    "\n",
    "for epoch in range(training_epochs_count):\n",
    "\tfor i in range(batches_count):\n",
    "\t\tbatch_x, batch_y = mnist.train.next_batch(batch_size)\n",
    "\t\tsession.run(optimizer, feed_dict={x:batch_x, y:batch_y})\n",
    "\tif ((epoch+1)%display_step==0):\n",
    "\t\tprint(\"Epoch #\"+str(epoch+1)+\" \"+str(session.run(accuracy, feed_dict={x: mnist.test.images, y: mnist.test.labels})))\n",
    "\n",
    "session.close()"
   ]
  },
  {
   "cell_type": "code",
   "execution_count": 33,
   "metadata": {},
   "outputs": [
    {
     "name": "stdout",
     "output_type": "stream",
     "text": [
      "Extracting mnist/train-images-idx3-ubyte.gz\n",
      "Extracting mnist/train-labels-idx1-ubyte.gz\n",
      "Extracting mnist/t10k-images-idx3-ubyte.gz\n",
      "Extracting mnist/t10k-labels-idx1-ubyte.gz\n",
      "step 0, training accuracy 0.08\n",
      "step 100, training accuracy 0.8\n",
      "step 200, training accuracy 0.9\n",
      "step 300, training accuracy 0.94\n",
      "step 400, training accuracy 0.98\n",
      "step 500, training accuracy 0.94\n",
      "step 600, training accuracy 0.96\n",
      "step 700, training accuracy 0.98\n",
      "step 800, training accuracy 0.86\n",
      "step 900, training accuracy 0.96\n",
      "step 1000, training accuracy 0.96\n",
      "step 1100, training accuracy 1\n",
      "step 1200, training accuracy 0.94\n",
      "step 1300, training accuracy 0.96\n",
      "step 1400, training accuracy 0.92\n",
      "step 1500, training accuracy 1\n",
      "step 1600, training accuracy 0.96\n",
      "step 1700, training accuracy 0.96\n",
      "step 1800, training accuracy 1\n",
      "step 1900, training accuracy 1\n",
      "step 2000, training accuracy 0.92\n",
      "step 2100, training accuracy 0.98\n",
      "step 2200, training accuracy 0.96\n",
      "step 2300, training accuracy 1\n",
      "step 2400, training accuracy 0.98\n",
      "step 2500, training accuracy 0.98\n",
      "step 2600, training accuracy 0.98\n",
      "step 2700, training accuracy 0.98\n",
      "step 2800, training accuracy 1\n",
      "step 2900, training accuracy 0.96\n",
      "step 3000, training accuracy 1\n",
      "step 3100, training accuracy 1\n",
      "step 3200, training accuracy 1\n",
      "step 3300, training accuracy 0.98\n",
      "step 3400, training accuracy 1\n",
      "step 3500, training accuracy 0.98\n",
      "step 3600, training accuracy 1\n",
      "step 3700, training accuracy 0.98\n",
      "step 3800, training accuracy 0.98\n",
      "step 3900, training accuracy 0.96\n",
      "step 4000, training accuracy 0.96\n",
      "step 4100, training accuracy 0.98\n",
      "step 4200, training accuracy 1\n",
      "step 4300, training accuracy 1\n",
      "step 4400, training accuracy 1\n",
      "step 4500, training accuracy 1\n",
      "step 4600, training accuracy 1\n",
      "step 4700, training accuracy 1\n",
      "step 4800, training accuracy 1\n",
      "step 4900, training accuracy 1\n",
      "step 5000, training accuracy 0.96\n",
      "step 5100, training accuracy 0.98\n",
      "step 5200, training accuracy 0.98\n",
      "step 5300, training accuracy 0.98\n",
      "step 5400, training accuracy 1\n",
      "step 5500, training accuracy 1\n",
      "step 5600, training accuracy 0.98\n",
      "step 5700, training accuracy 0.98\n",
      "step 5800, training accuracy 1\n",
      "step 5900, training accuracy 0.98\n",
      "step 6000, training accuracy 0.98\n",
      "step 6100, training accuracy 0.96\n",
      "step 6200, training accuracy 0.98\n",
      "step 6300, training accuracy 1\n",
      "step 6400, training accuracy 0.98\n",
      "step 6500, training accuracy 1\n",
      "step 6600, training accuracy 0.98\n",
      "step 6700, training accuracy 0.98\n",
      "step 6800, training accuracy 1\n",
      "step 6900, training accuracy 1\n",
      "step 7000, training accuracy 0.98\n",
      "step 7100, training accuracy 1\n",
      "step 7200, training accuracy 1\n",
      "step 7300, training accuracy 1\n",
      "step 7400, training accuracy 0.98\n",
      "step 7500, training accuracy 0.98\n",
      "step 7600, training accuracy 0.98\n",
      "step 7700, training accuracy 1\n",
      "step 7800, training accuracy 1\n",
      "step 7900, training accuracy 1\n",
      "step 8000, training accuracy 1\n",
      "step 8100, training accuracy 1\n",
      "step 8200, training accuracy 1\n",
      "step 8300, training accuracy 1\n",
      "step 8400, training accuracy 0.98\n",
      "step 8500, training accuracy 1\n",
      "step 8600, training accuracy 1\n",
      "step 8700, training accuracy 1\n",
      "step 8800, training accuracy 1\n",
      "step 8900, training accuracy 1\n",
      "step 9000, training accuracy 1\n",
      "step 9100, training accuracy 1\n",
      "step 9200, training accuracy 0.98\n",
      "step 9300, training accuracy 1\n",
      "step 9400, training accuracy 1\n",
      "step 9500, training accuracy 1\n",
      "step 9600, training accuracy 0.98\n",
      "step 9700, training accuracy 1\n",
      "step 9800, training accuracy 1\n",
      "step 9900, training accuracy 1\n",
      "step 10000, training accuracy 1\n",
      "step 10100, training accuracy 0.98\n",
      "step 10200, training accuracy 1\n",
      "step 10300, training accuracy 0.98\n",
      "step 10400, training accuracy 1\n",
      "step 10500, training accuracy 0.98\n",
      "step 10600, training accuracy 1\n",
      "step 10700, training accuracy 1\n",
      "step 10800, training accuracy 1\n",
      "step 10900, training accuracy 1\n",
      "step 11000, training accuracy 1\n",
      "step 11100, training accuracy 1\n",
      "step 11200, training accuracy 1\n",
      "step 11300, training accuracy 0.98\n",
      "step 11400, training accuracy 1\n",
      "step 11500, training accuracy 1\n",
      "step 11600, training accuracy 1\n",
      "step 11700, training accuracy 1\n",
      "step 11800, training accuracy 1\n",
      "step 11900, training accuracy 1\n",
      "step 12000, training accuracy 1\n",
      "step 12100, training accuracy 1\n",
      "step 12200, training accuracy 1\n",
      "step 12300, training accuracy 1\n",
      "step 12400, training accuracy 1\n",
      "step 12500, training accuracy 1\n",
      "step 12600, training accuracy 1\n",
      "step 12700, training accuracy 0.98\n",
      "step 12800, training accuracy 1\n",
      "step 12900, training accuracy 1\n",
      "step 13000, training accuracy 1\n",
      "step 13100, training accuracy 1\n",
      "step 13200, training accuracy 0.98\n",
      "step 13300, training accuracy 1\n",
      "step 13400, training accuracy 0.98\n",
      "step 13500, training accuracy 1\n",
      "step 13600, training accuracy 1\n",
      "step 13700, training accuracy 1\n",
      "step 13800, training accuracy 1\n",
      "step 13900, training accuracy 1\n",
      "step 14000, training accuracy 1\n",
      "step 14100, training accuracy 1\n",
      "step 14200, training accuracy 1\n",
      "step 14300, training accuracy 1\n",
      "step 14400, training accuracy 1\n",
      "step 14500, training accuracy 1\n",
      "step 14600, training accuracy 1\n",
      "step 14700, training accuracy 1\n",
      "step 14800, training accuracy 1\n",
      "step 14900, training accuracy 1\n",
      "step 15000, training accuracy 0.98\n",
      "step 15100, training accuracy 1\n",
      "step 15200, training accuracy 1\n",
      "step 15300, training accuracy 1\n",
      "step 15400, training accuracy 1\n",
      "step 15500, training accuracy 1\n",
      "step 15600, training accuracy 1\n",
      "step 15700, training accuracy 1\n",
      "step 15800, training accuracy 1\n",
      "step 15900, training accuracy 1\n",
      "step 16000, training accuracy 1\n",
      "step 16100, training accuracy 1\n",
      "step 16200, training accuracy 0.98\n",
      "step 16300, training accuracy 1\n",
      "step 16400, training accuracy 1\n",
      "step 16500, training accuracy 1\n",
      "step 16600, training accuracy 1\n",
      "step 16700, training accuracy 1\n",
      "step 16800, training accuracy 1\n",
      "step 16900, training accuracy 1\n",
      "step 17000, training accuracy 1\n",
      "step 17100, training accuracy 1\n",
      "step 17200, training accuracy 0.98\n",
      "step 17300, training accuracy 1\n",
      "step 17400, training accuracy 1\n",
      "step 17500, training accuracy 1\n",
      "step 17600, training accuracy 1\n",
      "step 17700, training accuracy 1\n",
      "step 17800, training accuracy 1\n",
      "step 17900, training accuracy 1\n",
      "step 18000, training accuracy 1\n",
      "step 18100, training accuracy 1\n",
      "step 18200, training accuracy 1\n",
      "step 18300, training accuracy 1\n",
      "step 18400, training accuracy 1\n",
      "step 18500, training accuracy 1\n",
      "step 18600, training accuracy 1\n",
      "step 18700, training accuracy 0.98\n",
      "step 18800, training accuracy 1\n",
      "step 18900, training accuracy 1\n",
      "step 19000, training accuracy 1\n",
      "step 19100, training accuracy 1\n",
      "step 19200, training accuracy 1\n",
      "step 19300, training accuracy 1\n",
      "step 19400, training accuracy 1\n",
      "step 19500, training accuracy 1\n",
      "step 19600, training accuracy 1\n",
      "step 19700, training accuracy 1\n",
      "step 19800, training accuracy 1\n",
      "step 19900, training accuracy 1\n",
      "test accuracy 0.9924\n"
     ]
    }
   ],
   "source": [
    "from tensorflow.examples.tutorials.mnist import input_data\n",
    "import tensorflow as tf\n",
    "\n",
    "\n",
    "def deepnn(x):\n",
    "    with tf.name_scope('reshape'):\n",
    "        x_image = tf.reshape(x, [-1,28,28,1])\n",
    "    \n",
    "    # First conv layer\n",
    "    with tf.name_scope('conv1'):\n",
    "        W_conv1 = weight_variable([5,5,1,32])\n",
    "        b_conv1 = bias_variable([32])\n",
    "        h_conv1 = tf.nn.relu(conv2d(x_image, W_conv1) + b_conv1)\n",
    "    \n",
    "    # First pooling layer\n",
    "    with tf.name_scope('pool1'):\n",
    "        h_pool1 = max_pool_2x2(h_conv1)\n",
    "    \n",
    "    # Second conv layer\n",
    "    with tf.name_scope('conv2'):\n",
    "        W_conv2 = weight_variable([5,5,32,64])\n",
    "        b_conv2 = bias_variable([64])\n",
    "        h_conv2 = tf.nn.relu(conv2d(h_pool1, W_conv2) + b_conv2)\n",
    "    \n",
    "    # Second pooling layer\n",
    "    with tf.name_scope('pool2'):\n",
    "        h_pool2 = max_pool_2x2(h_conv2)\n",
    "        \n",
    "    # Fully connected layer\n",
    "    with tf.name_scope('fc1'):\n",
    "        W_fc1 = weight_variable([7 * 7 * 64, 1024])\n",
    "        b_fc1 = bias_variable([1024])\n",
    "        \n",
    "        h_pool2_flat = tf.reshape(h_pool2, [-1, 7*7*64])\n",
    "        h_fc1 = tf.nn.relu(tf.matmul(h_pool2_flat, W_fc1) + b_fc1)\n",
    "    \n",
    "    # Dropout \n",
    "    with tf.name_scope('dropout'):\n",
    "        keep_prob = tf.placeholder(tf.float32)\n",
    "        h_fc1_drop = tf.nn.dropout(h_fc1,keep_prob)\n",
    "    \n",
    "    # Map features with classes\n",
    "    with tf.name_scope('fc2'):\n",
    "        W_fc2 = weight_variable([1024,10])\n",
    "        b_fc2 = bias_variable([10])\n",
    "        \n",
    "        y_conv = tf.matmul(h_fc1_drop, W_fc2) + b_fc2\n",
    "        return y_conv, keep_prob\n",
    "\n",
    "def conv2d(x,W):\n",
    "    return tf.nn.conv2d(x,W,strides=[1,1,1,1], padding='SAME')\n",
    "\n",
    "def max_pool_2x2(x):\n",
    "    return tf.nn.max_pool(x, ksize=[1,2,2,1],\n",
    "                            strides=[1,2,2,1], padding='SAME')\n",
    "\n",
    "def weight_variable(shape):\n",
    "    initial = tf.truncated_normal(shape, stddev=0.1)\n",
    "    return tf.Variable(initial)\n",
    "\n",
    "def bias_variable(shape):\n",
    "    initial = tf.constant(0.1, shape=shape)\n",
    "    return tf.Variable(initial)\n",
    "\n",
    "\n",
    "minst = input_data.read_data_sets(\"mnist/\", one_hot=True)\n",
    "    \n",
    "x = tf.placeholder(tf.float32, [None, 784])\n",
    "y_ = tf.placeholder(tf.float32, [None, 10])\n",
    "y_conv, keep_prob = deepnn(x)\n",
    "with tf.name_scope('loss'):\n",
    "    cross_entropy = tf.nn.softmax_cross_entropy_with_logits(labels=y_,logits=y_conv)\n",
    "    cross_entropy = tf.reduce_mean(cross_entropy)\n",
    "    \n",
    "with tf.name_scope('adam_optimizer'):\n",
    "    train_step = tf.train.AdamOptimizer(1e-4).minimize(cross_entropy)\n",
    "    \n",
    "with tf.name_scope('accuracy'):\n",
    "    correct_prediction = tf.equal(tf.argmax(y_conv, 1), tf.argmax(y_, 1))\n",
    "    correct_prediction = tf.cast(correct_prediction, tf.float32)\n",
    "    accuracy = tf.reduce_mean(correct_prediction)\n",
    "        \n",
    "    \n",
    "with tf.Session() as sess:\n",
    "    sess.run(tf.global_variables_initializer())\n",
    "    for i in range(20000):\n",
    "        batch = mnist.train.next_batch(50)\n",
    "        if i % 100 == 0:\n",
    "            train_accuracy = accuracy.eval(feed_dict={x: batch[0], y_: batch[1], keep_prob: 1.0})\n",
    "            print('step %d, training accuracy %g' % (i, train_accuracy))\n",
    "        train_step.run(feed_dict={x: batch[0], y_: batch[1], keep_prob: 0.5})\n",
    "\n",
    "    print('test accuracy %g' % accuracy.eval(feed_dict={x: mnist.test.images, y_: mnist.test.labels, keep_prob: 1.0}))"
   ]
  },
  {
   "cell_type": "code",
   "execution_count": null,
   "metadata": {
    "collapsed": true
   },
   "outputs": [],
   "source": []
  }
 ],
 "metadata": {
  "kernelspec": {
   "display_name": "Python 3",
   "language": "python",
   "name": "python3"
  },
  "language_info": {
   "codemirror_mode": {
    "name": "ipython",
    "version": 3
   },
   "file_extension": ".py",
   "mimetype": "text/x-python",
   "name": "python",
   "nbconvert_exporter": "python",
   "pygments_lexer": "ipython3",
   "version": "3.6.3"
  }
 },
 "nbformat": 4,
 "nbformat_minor": 2
}
