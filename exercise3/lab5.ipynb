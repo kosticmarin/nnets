{
 "cells": [
  {
   "cell_type": "markdown",
   "metadata": {
    "collapsed": true
   },
   "source": [
    "# Exercise 5: Multilayer perceptron\n",
    "\n",
    "The focus of this exercise will be on multilayer perceptron and to do that in a simpler way, an introduction to TensorFlow is given first.\n",
    "\n",
    "## 5.1 Introduction to TensorFlow\n",
    "\n",
    "TensorFlow is an open-source symbolic math software library used for machine learning applications such as neural networks. The following command is used to import TensorFlow in the Python code:"
   ]
  },
  {
   "cell_type": "code",
   "execution_count": null,
   "metadata": {
    "collapsed": true
   },
   "outputs": [],
   "source": [
    "import tensorflow as tf"
   ]
  },
  {
   "cell_type": "markdown",
   "metadata": {},
   "source": [
    "### 5.1.1 Constants, sessions, and operations\n",
    "TensorFlow is based around tensors - *n*-dimensional arrays of a given type. Three main tensor types in TensorFlow are constant, variable, and placeholder. To create a constant, the [tf.constant()](https://www.tensorflow.org/api_docs/python/tf/constant) method is used:"
   ]
  },
  {
   "cell_type": "code",
   "execution_count": null,
   "metadata": {},
   "outputs": [],
   "source": [
    "c=tf.constant(2)\n",
    "print(c)"
   ]
  },
  {
   "cell_type": "markdown",
   "metadata": {},
   "source": [
    "This constant tensor like other tensors has a value, a shape, a data type, and a name. These can be directly specified:"
   ]
  },
  {
   "cell_type": "code",
   "execution_count": null,
   "metadata": {},
   "outputs": [],
   "source": [
    "c=tf.constant(3, shape=(2, 5), dtype=tf.float32, name=\"our_constant\")\n",
    "print(c)"
   ]
  },
  {
   "cell_type": "markdown",
   "metadata": {},
   "source": [
    "To evaluate a tensor, a [Session](https://www.tensorflow.org/api_docs/python/tf/Session) instance is required. Sessions are environments where tensors and operations are executed. A session can be created and then used for evaluation as follows:"
   ]
  },
  {
   "cell_type": "code",
   "execution_count": null,
   "metadata": {},
   "outputs": [],
   "source": [
    "session=tf.Session()\n",
    "print(session.run(c))"
   ]
  },
  {
   "cell_type": "markdown",
   "metadata": {},
   "source": [
    "Other useful ways of creating constant tensors include the methods [tf.zeros()](https://www.tensorflow.org/api_docs/python/tf/zeros) and [tf.ones()](https://www.tensorflow.org/api_docs/python/tf/ones):"
   ]
  },
  {
   "cell_type": "code",
   "execution_count": null,
   "metadata": {},
   "outputs": [],
   "source": [
    "z=tf.zeros((2, 3))\n",
    "print(session.run(z))\n",
    "\n",
    "o=tf.ones((3, 1))\n",
    "print(session.run(o))"
   ]
  },
  {
   "cell_type": "markdown",
   "metadata": {},
   "source": [
    "The most common methods to create tensors with random values are [tf.random_uniform](https://www.tensorflow.org/api_docs/python/tf/random_uniform) and [tf.random_normal](https://www.tensorflow.org/api_docs/python/tf/random_normal):"
   ]
  },
  {
   "cell_type": "code",
   "execution_count": null,
   "metadata": {},
   "outputs": [],
   "source": [
    "u=tf.random_uniform(shape=(2, 4), minval=2, maxval=7)\n",
    "print(session.run(u))\n",
    "\n",
    "n=tf.random_normal(shape=(2, 4), mean=0, stddev=1)\n",
    "print(session.run(n))"
   ]
  },
  {
   "cell_type": "markdown",
   "metadata": {},
   "source": [
    "Applying addition, subtraction, multiplication, and division to tensors can be achieved by using operators +, -, *, and / or by calling  [tf.add()](https://www.tensorflow.org/api_docs/python/tf/add), [tf.subtract()](https://www.tensorflow.org/api_docs/python/tf/subtract), [tf.multiply()](https://www.tensorflow.org/api_docs/python/tf/multiply), [tf.divide()](https://www.tensorflow.org/api_docs/python/tf/divide). Each of these operations is performed element-wise, e.g. when applied to matrices, [tf.multiply()](https://www.tensorflow.org/api_docs/python/tf/multiply) is not matrix multiplication like [tf.matmul()](https://www.tensorflow.org/api_docs/python/tf/matmul), but element-wise multiplication."
   ]
  },
  {
   "cell_type": "code",
   "execution_count": null,
   "metadata": {},
   "outputs": [],
   "source": [
    "a=tf.ones((1, 2))\n",
    "b=2*tf.ones((1, 2))\n",
    "\n",
    "print(session.run(a+b+5))\n",
    "print(session.run(tf.subtract(a, b)))\n",
    "print(session.run(a*b))\n",
    "print(session.run(tf.divide(a, b)))"
   ]
  },
  {
   "cell_type": "markdown",
   "metadata": {},
   "source": [
    "Some other operations include [tf.abs()](https://www.tensorflow.org/api_docs/python/tf/abs), [tf.exp()](https://www.tensorflow.org/api_docs/python/tf/exp), [tf.matmul()](https://www.tensorflow.org/api_docs/python/tf/matmul), [tf.pow()](https://www.tensorflow.org/api_docs/python/tf/pow), [tf.square()](https://www.tensorflow.org/api_docs/python/tf/square), [tf.transpose()](https://www.tensorflow.org/api_docs/python/tf/transpose)."
   ]
  },
  {
   "cell_type": "code",
   "execution_count": null,
   "metadata": {},
   "outputs": [],
   "source": [
    "print(session.run(tf.transpose(tf.abs(tf.random_normal((1, 5), mean=0, stddev=3)))))"
   ]
  },
  {
   "cell_type": "markdown",
   "metadata": {},
   "source": [
    "### 5.1.2 Placeholders and variables\n",
    "Tensors used for more complex data and computation are [placeholders](https://www.tensorflow.org/api_docs/python/tf/placeholder) and [variables](https://www.tensorflow.org/api_docs/python/tf/Variable). Placeholders are providers of future values and mostly serve to take the input to the network. For this reasong thay cannot be directly evaluated unless its value is \"fed\" i.e. given by means of dictionary."
   ]
  },
  {
   "cell_type": "code",
   "execution_count": null,
   "metadata": {},
   "outputs": [],
   "source": [
    "#we create a placeholder\n",
    "a=tf.placeholder(dtype=tf.float32)\n",
    "\n",
    "#this would produce an error\n",
    "#print(session.run(a))\n",
    "\n",
    "#but not this\n",
    "print(session.run(a, feed_dict={a:-5}))\n",
    "\n",
    "#we use its value later\n",
    "b=tf.abs(a)\n",
    "\n",
    "#to provide a value to the placeholder, feed_dict is used\n",
    "print(session.run(b, feed_dict={a:-5}))\n",
    "#we can also use different input size\n",
    "print(session.run(b, feed_dict={a:[-17, 1, -2]}))\n",
    "\n",
    "print(\"\\n\\n\")\n",
    "\n",
    "m1=tf.placeholder(dtype=tf.float32)\n",
    "m2=tf.placeholder(dtype=tf.float32)\n",
    "\n",
    "p=tf.matmul(m1, m2)\n",
    "print(session.run(p, feed_dict={m1:[[1], [2], [3]], m2:[[1, 2, 3]]}))\n",
    "print(session.run(p, feed_dict={m1:[[1, 2, 3]], m2:[[1], [2], [3]]}))\n"
   ]
  },
  {
   "cell_type": "markdown",
   "metadata": {},
   "source": [
    "Variable are mostly used for trainable parameters. While constants are intialized when created,variables are initialized within the session by a procedure that must be defined. Manual assignment of new values tan be is possible using [tf.assign()](https://www.tensorflow.org/api_docs/python/tf/assign). Variables are mostly changed during the optimization process.\n"
   ]
  },
  {
   "cell_type": "code",
   "execution_count": null,
   "metadata": {},
   "outputs": [],
   "source": [
    "session=tf.Session()\n",
    "#a constant is used for the initialization procedure\n",
    "a=tf.Variable(3)\n",
    "#random values will be used for initialization\n",
    "b=tf.Variable(tf.random_uniform(shape=(2, 3)))\n",
    "\n",
    "#this would produce an error since the variable has not been initialized - only the initialization procedure has been defined\n",
    "#print(session.run(a))\n",
    "\n",
    "#initialize all variables\n",
    "session.run(tf.global_variables_initializer())\n",
    "#now evaluate the variable\n",
    "print(session.run(a))\n",
    "print(session.run(b))"
   ]
  },
  {
   "cell_type": "markdown",
   "metadata": {
    "collapsed": true
   },
   "source": [
    "### 5.1.3 Linear regression\n",
    "To have an example of a fully written network, let's now implement simple multivariate linear regression using TensorFlow. The used model will be $y=\\mathbf{w}^{T}\\mathbf{x}+\\mathbf{b}$."
   ]
  },
  {
   "cell_type": "code",
   "execution_count": null,
   "metadata": {
    "collapsed": true
   },
   "outputs": [],
   "source": [
    "#data placeholders - this will be used for the given features and for the ground-truth value of y\n",
    "x=tf.placeholder(dtype=tf.float32, shape=[None, 3])\n",
    "y=tf.placeholder(dtype=tf.float32, shape=[None, 1])\n",
    "\n",
    "#parameter variables\n",
    "w=tf.Variable(tf.random_normal(shape=(3, 1)))\n",
    "b=tf.Variable(tf.random_normal([1, 1]))\n",
    "\n",
    "#the model for y - this will be used for the predicted value of y\n",
    "y_predicted=tf.matmul(x, w)+b"
   ]
  },
  {
   "cell_type": "markdown",
   "metadata": {},
   "source": [
    "TensorFlow trains a model i.e. learns its parameter values by minimizing a loss function that needs to be defined. The minimization is carried out by a defined optimizer object by calling its [minimize()](https://www.tensorflow.org/api_docs/python/tf/train/Optimizer#minimize) method called. The learning rate chosen when defining the optimizer objects and the number of training epochs will have a significant impact on the model training process by influencing how fast the learning process will converge."
   ]
  },
  {
   "cell_type": "code",
   "execution_count": null,
   "metadata": {},
   "outputs": [],
   "source": [
    "#the loss function will be mean square\n",
    "loss=tf.reduce_mean(tf.square(y_predicted-y))\n",
    "\n",
    "#gradient descent optimizer with learning rate 0.1\n",
    "optimizer=tf.train.GradientDescentOptimizer(0.1)\n",
    "\n",
    "#train operation\n",
    "train=optimizer.minimize(loss)\n",
    "\n",
    "#generation data for regression\n",
    "import numpy as np\n",
    "w_real=np.array([[1], [3], [-2]])\n",
    "x_train=np.random.normal(size=(100, 3))\n",
    "y_train=(w_real.T@x_train.T).T;\n",
    "\n",
    "session.run(tf.global_variables_initializer())\n",
    "for epoch in range(100):\n",
    "    session.run(train, feed_dict={x:x_train, y:y_train})\n",
    "    if ((epoch+1)%10==0):\n",
    "        print(\"Epoch #\"+str(epoch+1)+\": \"+str(session.run(loss, feed_dict={x:x_train, y:y_train})))\n",
    "\n",
    "#print the trained weights\n",
    "print(session.run(w))"
   ]
  },
  {
   "cell_type": "markdown",
   "metadata": {},
   "source": [
    "## 5.2 The XOR problem\n",
    "XOR samples are not linearly separable. However, they can be separated by introducing non-linearities. In TensorFlow some of them include [tf.sigmoid()](https://www.tensorflow.org/api_docs/python/tf/sigmoid), [tf.tanh()](https://www.tensorflow.org/api_docs/python/tf/tanh), [tf.nn.relu()](https://www.tensorflow.org/api_docs/python/tf/nn/relu), etc. Besides the common [tf.train.GradientDescentOptimizer](https://www.tensorflow.org/api_docs/python/tf/train/GradientDescentOptimizer), there are other optimizers as well, e.g. [tf.train.AdamOptimizer](https://www.tensorflow.org/api_docs/python/tf/train/AdamOptimizer).\n",
    "\n",
    "**Task**\n",
    "\n",
    "Below is the code for solving the XOR problem in TensorFlow. Determine how many epochs are required for the training process to converge for each combination of the chosen activation function, optimizer, and various learning rates. Which combination turned out to be the best?"
   ]
  },
  {
   "cell_type": "code",
   "execution_count": null,
   "metadata": {},
   "outputs": [],
   "source": [
    "activation_type=tf.nn.sigmoid;\n",
    "#activation_type=tf.nn.tanh;\n",
    "#activation_type=tf.nn.relu;\n",
    "\n",
    "optimizer_type=tf.train.GradientDescentOptimizer\n",
    "#optimizer_type=tf.train.AdamOptimizer\n",
    "\n",
    "learning_rate=0.1;\n",
    "\n",
    "\n",
    "\n",
    "threshold=1e-4\n",
    "\n",
    "session=tf.Session()\n",
    "\n",
    "#training data\n",
    "x_train=np.array([[0, 0], [0, 1], [1, 0], [1, 1]])\n",
    "y_train=np.array([[0], [1], [1], [0]])\n",
    "\n",
    "x=tf.placeholder(tf.float32, [None, 2])\n",
    "y=tf.placeholder(tf.float32, [None, 1])\n",
    "\n",
    "w1=tf.Variable(tf.random_uniform((2, 2)))\n",
    "b1=tf.Variable(tf.random_uniform([2]))\n",
    "\n",
    "w2=tf.Variable(tf.random_uniform((2, 1)))\n",
    "b2=tf.Variable(tf.random_uniform([1]))\n",
    "\n",
    "\n",
    "f1=tf.matmul(x, w1)+b1\n",
    "f2=activation_type(f1)\n",
    "y_predicted=tf.matmul(f2, w2)+b2\n",
    "\n",
    "loss=tf.reduce_mean(tf.square(y_predicted-y))\n",
    "\n",
    "optimizer=optimizer_type(learning_rate)\n",
    "train=optimizer.minimize(loss)\n",
    "\n",
    "session.run(tf.global_variables_initializer())\n",
    "\n",
    "for epoch in range(10000):\n",
    "    session.run(train, feed_dict={x:x_train, y:y_train})\n",
    "    error=session.run(loss,{x:x_train, y:y_train})\n",
    "    if ((epoch+1)%100==0):\n",
    "        print(\"Epoch #\"+str(epoch+1)+\": \"+str(error))\n",
    "    if (error<threshold):\n",
    "        print(\"Threshold passed at epoch #\"+str(epoch+1)+\".\");\n",
    "        break;\n",
    "\n",
    "session.close();"
   ]
  },
  {
   "cell_type": "markdown",
   "metadata": {},
   "source": [
    "## 5.3 The MNIST dataset\n",
    "[The MNIST dataset](http://yann.lecun.com/exdb/mnist/) contains 60,000 training and 10,000 test images of handwritten digits. It is used to test the ability of a method to recognize which digit is on a given image. Although spatial distribution of individual image pixels matters, in this example we are going to disregard it and simply use individual pixel values as features. There are $28\\cdot 28=784$ pixels i.e. features per image. The basic code is given below.\n",
    "\n",
    "**Task**\n",
    "\n",
    "Experiment with different activation functions, learning rates, batch sizes, optimizers, and architectures. What is the best combination of them? Which of them has the highest impact on the accuracy and rate of convergence? How about the size of hidden layers? Make the comparisons and draw the appropriate plots."
   ]
  },
  {
   "cell_type": "code",
   "execution_count": null,
   "metadata": {},
   "outputs": [],
   "source": [
    "#use MNIST data\n",
    "from tensorflow.examples.tutorials.mnist import input_data\n",
    "mnist=input_data.read_data_sets(\"mnist/\", one_hot=True)\n",
    "\n",
    "import tensorflow as tf\n",
    "\n",
    "#settings\n",
    "learning_rate=0.01\n",
    "training_epochs_count=20\n",
    "batch_size=100\n",
    "batches_count=int(mnist.train.num_examples/batch_size)\n",
    "\n",
    "activation_function=tf.nn.relu\n",
    "optimizer_type=tf.train.AdamOptimizer\n",
    "\n",
    "batch_size=100\n",
    "display_step=1\n",
    "\n",
    "#architecture\n",
    "hidden_layer_size_1=256\n",
    "hidden_layer_size_2=256\n",
    "input_size=784\n",
    "n_classes=10\n",
    "\n",
    "#data input\n",
    "x=tf.placeholder(tf.float32, [None, input_size])\n",
    "y=tf.placeholder(tf.float32, [None, n_classes])\n",
    "\n",
    "#weights\n",
    "w1=tf.Variable(tf.random_normal([input_size, hidden_layer_size_1]))\n",
    "w2=tf.Variable(tf.random_normal([hidden_layer_size_1, hidden_layer_size_2]))\n",
    "w3=tf.Variable(tf.random_normal([hidden_layer_size_2, n_classes]))\n",
    "\n",
    "#biases\n",
    "b1=tf.Variable(tf.random_normal([hidden_layer_size_1]))\n",
    "b2=tf.Variable(tf.random_normal([hidden_layer_size_2]))\n",
    "b3=tf.Variable(tf.random_normal([n_classes]))\n",
    "\n",
    "#layers\n",
    "layer_1=activation_function(tf.add(tf.matmul(x, w1), b1))\n",
    "layer_2=activation_function(tf.add(tf.matmul(layer_1, w2), b2))\n",
    "y_predicted=tf.matmul(layer_2, w3)+b3\n",
    "\n",
    "cost=tf.reduce_mean(tf.nn.softmax_cross_entropy_with_logits(logits=y_predicted, labels=y))\n",
    "optimizer=optimizer_type(learning_rate=learning_rate).minimize(cost)\n",
    "\n",
    "\n",
    "session=tf.Session();\n",
    "session.run(tf.global_variables_initializer())\n",
    "\n",
    "correct_y_predictediction=tf.equal(tf.argmax(y_predicted, 1), tf.argmax(y, 1))\n",
    "accuracy=tf.reduce_mean(tf.cast(correct_y_predictediction, tf.float32))\n",
    "\n",
    "for epoch in range(training_epochs_count):\n",
    "\tfor i in range(batches_count):\n",
    "\t\tbatch_x, batch_y = mnist.train.next_batch(batch_size)\n",
    "\t\tsession.run(optimizer, feed_dict={x:batch_x, y:batch_y})\n",
    "\tif ((epoch+1)%display_step==0):\n",
    "\t\tprint(\"Epoch #\"+str(epoch+1)+\" \"+str(session.run(accuracy, feed_dict={x: mnist.test.images, y: mnist.test.labels})))\n",
    "\n",
    "session.close()"
   ]
  }
 ],
 "metadata": {
  "kernelspec": {
   "display_name": "Python 3",
   "language": "python",
   "name": "python3"
  },
  "language_info": {
   "codemirror_mode": {
    "name": "ipython",
    "version": 3
   },
   "file_extension": ".py",
   "mimetype": "text/x-python",
   "name": "python",
   "nbconvert_exporter": "python",
   "pygments_lexer": "ipython3",
   "version": "3.6.2"
  }
 },
 "nbformat": 4,
 "nbformat_minor": 2
}
